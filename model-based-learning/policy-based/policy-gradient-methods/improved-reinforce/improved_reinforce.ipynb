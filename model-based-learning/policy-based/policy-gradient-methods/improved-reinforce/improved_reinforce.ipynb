{
 "cells": [
  {
   "cell_type": "markdown",
   "metadata": {},
   "source": [
    "### 0. Background: What are the main problems of REINFORCE?\n",
    "\n",
    "In previous notebook, the [original reinforce](../vanilla-reinforce/reinforce_with_discrete_actions.ipynb) algorithm have issues:\n",
    "\n",
    "#### Issue 1: noisy gradient and inefficient update process\n",
    "\n",
    "In Mathematically, the gradient is given by an average over all the possible trajectories, \n",
    "\n",
    "$$\n",
    "\\nabla_\\theta U(\\theta) \\approx \\hat{g} = \\frac{1}{m} \\sum_{i=1}^m \\sum_{t=0}^H \\nabla_\\theta \\log \\pi_\\theta(a_t^{(i)} \\mid s_t^{(i)}) R(\\tau^{(i)})\n",
    "$$\n",
    "\n",
    "Since for each policy we have millions of trajectories for simple problems, and infinite for continuous problems, So,for practical purposes, we simply take one trajectory to compute the gradient, and update our policy. So a lot of times, the result of a sampled trajectory comes down to chance, and doesn't contain that much information about our policy.\n",
    "\n",
    "#### Improvement 1: **Parallel Collect Multiple Trajectories**\n",
    "\n",
    "For both above issues, the easiest option to reduce the noise in the gradient is to simply sample more trajectories! Using distributed computing, we can **collect multiple trajectories in parallel**, so that it won’t take too much time. Then we can estimate the policy gradient by averaging across all the different trajectories\n",
    "\n",
    "\n",
    "#### Improvement 2: **Rewards Normalization**\n",
    "  \n",
    "There is another bonus for running multiple trajectories: we can collect all the total rewards and get a sense of how they are distributed. In many cases, the distribution of rewards shifts as learning happens. Reward = 1 might be really good in the beginning, but really bad after 1000 training episode. Learning can be improved if we normalize the rewards, where $μ$ is the mean, and $σ$ the standard deviation.\n",
    "\n",
    "$$\n",
    "R_i \\leftarrow \\frac{R_i - \\mu}{\\sigma}, \\quad \\mu = \\frac{1}{N} \\sum_{i=1}^N R_i, \\quad \\sigma = \\sqrt{\\frac{1}{N} \\sum_{i=1}^N (R_i - \\mu)^2}\n",
    "$$\n",
    "\n",
    "(when all the $R_i$ are the same, $σ=0$, we can set all the normalized rewards to 0 to avoid numerical problems)\n",
    "\n",
    "Intuitively, normalizing the rewards roughly corresponds to picking half the actions to encourage/discourage, while also making sure the steps for gradient ascents are not too large/small.\n",
    "\n",
    "\n",
    "#### Issue 2: no clear credit assignment\n",
    "\n",
    "A trajectory may contain many good/bad actions and whether these actions are reinforced depends only on the final total output.\n",
    "\n",
    "The total reward **R** is the sum of rewards at each step:\n",
    "\n",
    "$$\n",
    "R = r_1 + r_2 + \\dots + r_{t-1} + r_t + \\dots\n",
    "$$\n",
    "\n",
    "The gradient estimate can be expressed as:\n",
    "\n",
    "$$\n",
    "g = \\sum_t \\left( \\dots + r_{t-1} + r_t + \\dots \\right) \\nabla_\\theta \\log \\pi_\\theta(a_t \\mid s_t)\n",
    "$$\n",
    "\n",
    "At time-step **t**, before an action is decided, the agent has already received all the rewards up until step **t-1**. This part of the total reward is referred to as the **past reward**. The remaining part is denoted as the **future reward**:\n",
    "\n",
    "$$\n",
    "R_t^{past} = \\dots + r_{t-1}, \\quad R_t^{future} = r_t + \\dots\n",
    "$$\n",
    "\n",
    "Thus, the total reward can be written as:\n",
    "\n",
    "$$\n",
    "R = R_t^{past} + R_t^{future}\n",
    "$$\n",
    "\n",
    "#### Improvement 3: only consider the future reward\n",
    "Since the process is Markov, the action at time-step **t** can only affect the **future reward**, not the **past reward**. Therefore, the past reward should not contribute to the policy gradient. To properly assign credit to the action **a_t**, we only consider the future reward.\n",
    "\n",
    "The updated policy gradient becomes:\n",
    "\n",
    "$$\n",
    "g = \\sum_t R_t^{future} \\nabla_\\theta \\log \\pi_\\theta(a_t \\mid s_t)\n",
    "$$\n",
    "\n",
    "\n",
    "> Why is it okay to modify the gradient?\n",
    "> - Ignoring past rewards changes the gradient for each specific trajectory, but it does not change the **averaged gradient**. On average, we are still maximizing the expected reward.\n",
    "> - By using only the future reward, the resultant gradient is less noisy. This leads to faster and more stable training.\n",
    "\n",
    "\n"
   ]
  },
  {
   "cell_type": "markdown",
   "metadata": {},
   "source": [
    "### 1. Import the Necessary Packages\n",
    "\n",
    "In this notebook, we will implement and train a policy to play [atari-pong](https://ale.farama.org/environments/pong/), using only the pixels as input. We will use convolutional neural nets, multiprocessing, and pytorch to implement and train our policy.\n"
   ]
  },
  {
   "cell_type": "code",
   "execution_count": 1,
   "metadata": {},
   "outputs": [
    {
     "name": "stdout",
     "output_type": "stream",
     "text": [
      "using device:  mps\n"
     ]
    }
   ],
   "source": [
    "import numpy as np\n",
    "from enum import Enum\n",
    "import ale_py\n",
    "import gymnasium as gym\n",
    "\n",
    "import torch\n",
    "import torch.nn as nn\n",
    "import torch.nn.functional as F\n",
    "import torch.optim as optim\n",
    "\n",
    "from parallel_env import ParallelEnv\n",
    "from plot_utils import display_frame, save_animation, plot_scores\n",
    "\n",
    "\n",
    "%matplotlib inline\n",
    "gym.register_envs(ale_py)\n",
    "\n",
    "device = torch.device(\"cuda:0\" if torch.cuda.is_available() else \n",
    "                      \"mps\" if torch.backends.mps.is_available() else \n",
    "                      \"cpu\")\n",
    "print(\"using device: \",device)"
   ]
  },
  {
   "cell_type": "markdown",
   "metadata": {},
   "source": [
    "### 2. Explore Environment\n",
    "\n",
    "<div style=\"text-align: center;\">\n",
    "    <img src=\"./images/pong.gif\" alt=\"Mountain Car Environment\" width=\"10%\">\n",
    "</div>\n",
    "\n",
    "#### Continuous State Space\n",
    "- **Observation Type**: `\"rgb\"`\n",
    "- **Observation Space**: `Box(0, 255, (210, 160, 3), np.uint8)`\n",
    "  - Observations are RGB images with dimensions 210x160 and 3 color channels. The pixel values range from 0 to 255.\n",
    "\n",
    "#### Discrete Action Space\n",
    "- **Type**: `Discrete(6)`\n",
    "- **Actions**:\n",
    "  - `0`: `NOOP` (No operation)\n",
    "  - `1`: `FIRE`\n",
    "  - `2`: `RIGHT`\n",
    "  - `3`: `LEFT`\n",
    "  - `4`: `RIGHTFIRE`\n",
    "  - `5`: `LEFTFIRE`\n",
    "\n",
    "> To simplify training, we will only use the following two actions:\n",
    "> - `4`: `RIGHTFIRE`\n",
    "> - `5`: `LEFTFIRE`\n",
    "\n",
    "The `FIRE` part ensures the game starts again after losing a life.\n",
    "\n",
    "#### Other Settings\n",
    "1. **Frameskip**\n",
    "    - **Value**: `4`\n",
    "    - **Explanation**: The environment executes the same action for 4 consecutive frames before observing the next state. This deterministic frameskip makes the environment faster to train compared to the vanilla `Pong-v4`, which uses a stochastic frameskip of `(2, 5)`.\n",
    "\n",
    "2. **Repeat Action Probability**\n",
    "    - **Value**: `0.0`\n",
    "    - **Explanation**: This setting ensures no randomness in action repetition. The same action will always have the same effect, making the environment fully deterministic and predictable.\n",
    "\n",
    "By using deterministic frameskip and disabling action stickiness, `PongDeterministic-v4` is more efficient for training reinforcement learning models.\n"
   ]
  },
  {
   "cell_type": "code",
   "execution_count": 2,
   "metadata": {},
   "outputs": [
    {
     "name": "stderr",
     "output_type": "stream",
     "text": [
      "A.L.E: Arcade Learning Environment (version 0.10.1+6a7e0ae)\n",
      "[Powered by Stella]\n"
     ]
    }
   ],
   "source": [
    "env = gym.make('PongDeterministic-v4')"
   ]
  },
  {
   "cell_type": "code",
   "execution_count": 3,
   "metadata": {},
   "outputs": [
    {
     "name": "stdout",
     "output_type": "stream",
     "text": [
      "State space:\n",
      " Box(0, 255, (210, 160, 3), uint8)\n",
      "Action space:\n",
      " Discrete(6)\n",
      "--------------------------------------------------\n",
      "Shape of State space 2 samples:\n",
      "[(210, 160, 3), (210, 160, 3)]\n",
      "Action space 2 samples:\n",
      "[4 4]\n"
     ]
    }
   ],
   "source": [
    "# Explore state (observation) space\n",
    "print(\"State space:\\n\", env.observation_space)\n",
    "\n",
    "# Explore action space\n",
    "print(\"Action space:\\n\", env.action_space)\n",
    "\n",
    "print(\"-\"*50)\n",
    "# Generate some samples from the state space \n",
    "print(\"Shape of State space 2 samples:\")\n",
    "print([env.observation_space.sample().shape for _ in range(2)])\n",
    "\n",
    "# Generate some samples from the action space\n",
    "print(\"Action space 2 samples:\")\n",
    "print(np.array([env.action_space.sample() for i in range(2)]))"
   ]
  },
  {
   "cell_type": "code",
   "execution_count": 4,
   "metadata": {},
   "outputs": [],
   "source": [
    "class Action(Enum):\n",
    "    NOOP = 0         # No operation\n",
    "    FIRE = 1         # Fire\n",
    "    RIGHT = 2        # Move right\n",
    "    LEFT = 3         # Move left\n",
    "    RIGHTFIRE = 4    # Move right and fire\n",
    "    LEFTFIRE = 5     # Move left and fire"
   ]
  },
  {
   "cell_type": "markdown",
   "metadata": {},
   "source": [
    "### 3. Preprocessing\n",
    "\n",
    "To speed up training, we can simplify the input by cropping the images and use every other pixel\n",
    "\n",
    "<div style=\"text-align: center;\">\n",
    "    <img src=\"./images/preprocess.png\" alt=\"Mountain Car Environment\" width=\"50%\">\n",
    "</div>\n"
   ]
  },
  {
   "cell_type": "code",
   "execution_count": 5,
   "metadata": {},
   "outputs": [],
   "source": [
    "def preprocess(image, bkg_color=np.array([144, 72, 17])):\n",
    "    \"\"\"\n",
    "    Preprocess a single game frame by cropping, downsampling, and normalizing.\n",
    "\n",
    "    Args:\n",
    "        image (np.ndarray): The input image (game frame) as a NumPy array.\n",
    "        bkg_color (np.ndarray): The RGB background color to subtract.\n",
    "\n",
    "    Returns:\n",
    "        np.ndarray: The processed image, normalized to [0, 1].\n",
    "    \"\"\"\n",
    "    # Crop the image to remove irrelevant parts (e.g., score and borders)\n",
    "    cropped_image = image[34:-16, :]\n",
    "    # Downsample the image by taking every second pixel (both rows and columns)\n",
    "    downsampled_image = cropped_image[::2, ::2]\n",
    "    # Subtract the background color\n",
    "    adjusted_image = downsampled_image - bkg_color\n",
    "    # Convert to grayscale by taking the mean across the color channels\n",
    "    grayscale_image = np.mean(adjusted_image, axis=-1)\n",
    "    # Normalize pixel values to the range [0, 1]\n",
    "    normalized_image = grayscale_image / 255.0\n",
    "\n",
    "    return normalized_image\n",
    "\n",
    "\n",
    "def preprocess_batch(images, bkg_color=np.array([144, 72, 17])):\n",
    "    \"\"\"\n",
    "    Convert outputs of ParallelEnv to inputs for tensor processing.\n",
    "\n",
    "    Args:\n",
    "        images (list or np.ndarray): Batch of input images (game frames).\n",
    "        bkg_color (np.ndarray): The RGB background color to subtract.\n",
    "        device (str): The device to which the tensor will be moved (e.g., \"cpu\" or \"cuda\").\n",
    "\n",
    "    Returns:\n",
    "        torch.Tensor: The processed batch of images as a tensor, normalized to [0, 1].\n",
    "    \"\"\"\n",
    "    # Ensure images are in a NumPy array\n",
    "    # shape: (time_steps, height, width, channel)\n",
    "    batch_images = np.asarray(images)\n",
    "\n",
    "    # If the input has less than 5 dimensions, expand the dimensions\n",
    "    # shape: (time_steps, batch, height, width, channels)\n",
    "    if len(batch_images.shape) < 5:\n",
    "        batch_images = np.expand_dims(batch_images, 1)\n",
    "\n",
    "    # Process each image in the batch using logic from the preprocess function\n",
    "    # shape: (time_steps, batch, height, width, channels)\n",
    "    cropped_images = batch_images[:, :, 34:-16, :, :]  # Crop the images\n",
    "    downsampled_images = cropped_images[:, :, ::2, ::2, :]  # Downsample the images\n",
    "    adjusted_images = downsampled_images - bkg_color  # Subtract the background color\n",
    "    \n",
    "    # Convert to grayscale and normalize pixel values to [0, 1]\n",
    "    # shape: (time_steps, batch, height, width)\n",
    "    grayscale_images = np.mean(adjusted_images, axis=-1)  \n",
    "    normalized_images = grayscale_images / 255.0\n",
    "\n",
    "    # Rearrange the batch dimension to match the expected input format\n",
    "    # shape: (batch, time_steps, height, width) or in other way\n",
    "    #        (batch, channel, height, width)\n",
    "    batch_input = torch.from_numpy(normalized_images).float()\n",
    "    batch_input = batch_input.permute(1, 0, 2, 3)\n",
    "    return batch_input\n"
   ]
  },
  {
   "cell_type": "code",
   "execution_count": 6,
   "metadata": {},
   "outputs": [
    {
     "name": "stdout",
     "output_type": "stream",
     "text": [
      "Original Frame Shape: (210, 160, 3)\n",
      "Processed Frame Shape: (80, 80)\n"
     ]
    },
    {
     "data": {
      "image/png": "[encoded data removed]",
      "text/plain": [
       "<Figure size 640x480 with 2 Axes>"
      ]
     },
     "metadata": {},
     "output_type": "display_data"
    }
   ],
   "source": [
    "# Test: get 20-th frame\n",
    "env.reset()\n",
    "for _ in range(20):\n",
    "    action = 1 # fire\n",
    "    frame, *_ = env.step(action)\n",
    "\n",
    "processed_frame = preprocess(frame)\n",
    "\n",
    "display_frame(frame, processed_frame)"
   ]
  },
  {
   "cell_type": "markdown",
   "metadata": {},
   "source": [
    "### 4. Define Policy\n",
    "\n",
    "Here, we define our policy. Similar to [DQN](https://storage.googleapis.com/deepmind-media/dqn/DQNNaturePaper.pdf), we modify the architechture of network for this problem.\n",
    "\n",
    "- Action Value Network in DQN\n",
    "\n",
    "<div style=\"text-align: center;\">\n",
    "    <img src=\"./images/dqn-network.png\" alt=\"Mountain Car Environment\" width=\"50%\">\n",
    "</div>\n",
    "\n",
    "- Policy Network in Reinforce\n",
    "  - input is the stack of two different frames (which captures the movement)\n",
    "  - output is a number $P_{\\rm right}$, the probability of moving left. Note that $P_{\\rm left}= 1-P_{\\rm right}$\n",
    "\n",
    "<div style=\"text-align: center;\">\n",
    "    <img src=\"./images/policy-network.png\" alt=\"Mountain Car Environment\" width=\"60%\">\n",
    "</div>\n"
   ]
  },
  {
   "cell_type": "code",
   "execution_count": 23,
   "metadata": {},
   "outputs": [
    {
     "data": {
      "text/plain": [
       "Policy(\n",
       "  (conv1): Conv2d(2, 32, kernel_size=(4, 4), stride=(4, 4))\n",
       "  (conv2): Conv2d(32, 64, kernel_size=(4, 4), stride=(2, 2))\n",
       "  (conv3): Conv2d(64, 64, kernel_size=(3, 3), stride=(1, 1))\n",
       "  (fc1): Linear(in_features=3136, out_features=128, bias=True)\n",
       "  (fc2): Linear(in_features=128, out_features=1, bias=True)\n",
       ")"
      ]
     },
     "execution_count": 23,
     "metadata": {},
     "output_type": "execute_result"
    }
   ],
   "source": [
    "class Policy(nn.Module):\n",
    "\n",
    "    def __init__(self):\n",
    "        super(Policy, self).__init__()\n",
    "        \n",
    "        self.RIGHTFIRE = Action.RIGHTFIRE.value\n",
    "        self.LEFTFIRE = Action.LEFTFIRE.value\n",
    "        \n",
    "        # 80x80x2 input\n",
    "        # Conv layers with progressively decreasing spatial dimensions\n",
    "        # outputsize = (inputsize - kernel_size + stride) / stride\n",
    "        # (round up if not an integer)\n",
    "\n",
    "        # First convolutional layer: input 80x80x2 -> output 20x20x32\n",
    "        self.conv1 = nn.Conv2d(2, 32, kernel_size=4, stride=4)\n",
    "        \n",
    "        # Second convolutional layer: input 20x20x32 -> output 9x9x64\n",
    "        self.conv2 = nn.Conv2d(32, 64, kernel_size=4, stride=2)\n",
    "\n",
    "        # Third convolutional layer: input 9x9x64 -> output 7x7x64\n",
    "        self.conv3 = nn.Conv2d(64, 64, kernel_size=3, stride=1)\n",
    "        \n",
    "        # Flatten the output of the conv layers\n",
    "        self.size = 7 * 7 * 64  # Flattened size after conv layers\n",
    "        \n",
    "        # Fully connected layers: progressively decreasing sizes\n",
    "        self.fc1 = nn.Linear(self.size, 128)  # First fully connected layer\n",
    "        self.fc2 = nn.Linear(128, 1)           # Final fully connected layer (output)\n",
    "        \n",
    "        \n",
    "    def forward(self, x):\n",
    "        # Pass through the convolutional layers with ReLU activation\n",
    "        x = F.relu(self.conv1(x))\n",
    "        x = F.relu(self.conv2(x))\n",
    "        x = F.relu(self.conv3(x))\n",
    "        \n",
    "        # Flatten the tensor\n",
    "        x = x.view(-1, self.size)\n",
    "        \n",
    "        # Pass through the fully connected layers with ReLU activation\n",
    "        x = F.relu(self.fc1(x))\n",
    "        x = F.sigmoid(self.fc2(x))\n",
    "        \n",
    "        # the output is the probability of moving right, P(right)\n",
    "        # so, for moving left, have P(left) = 1-P(right)\n",
    "        return x\n",
    "\n",
    "    @torch.no_grad()\n",
    "    def select_action(self, frames, mode='inference'):\n",
    "        \"\"\"\n",
    "        Select actions based on policy for either inference or trajectory collection.\n",
    "        \n",
    "        Args:\n",
    "            frames: Tuple of (frame1, frame2) or preprocessed tensor\n",
    "            mode: Either 'inference' for single action or 'collect' for trajectory collection\n",
    "            \n",
    "        Returns:\n",
    "            For mode='inference': single action value\n",
    "            For mode='collect': tuple of (states, actions, action_probs)\n",
    "        \"\"\"\n",
    "        # Ensure frames are on the correct device\n",
    "        if isinstance(frames, tuple):\n",
    "            states = preprocess_batch(frames).to(next(self.parameters()).device)\n",
    "        else:\n",
    "            states = frames.to(next(self.parameters()).device)\n",
    "        \n",
    "        # Get action probabilities\n",
    "        probs = self(states).squeeze().detach().cpu().numpy()\n",
    "        \n",
    "        if mode == 'inference':\n",
    "            # Single instance inference\n",
    "            action = self.RIGHTFIRE if np.random.random() < probs else self.LEFTFIRE\n",
    "            return action\n",
    "        \n",
    "        elif mode == 'collect':\n",
    "            # Batch processing for trajectory collection\n",
    "            n = probs.shape[0]\n",
    "            \n",
    "            # Generate random values for all instances\n",
    "            random_values = np.random.rand(n)\n",
    "            \n",
    "            # Select actions based on probabilities\n",
    "            actions = np.where(\n",
    "                random_values < probs,\n",
    "                self.RIGHTFIRE,\n",
    "                self.LEFTFIRE\n",
    "            )\n",
    "            \n",
    "            # Calculate action probabilities\n",
    "            action_probs = np.where(\n",
    "                actions == self.RIGHTFIRE,\n",
    "                probs,\n",
    "                1.0 - probs\n",
    "            )\n",
    "            \n",
    "            return states, actions, action_probs\n",
    "        \n",
    "        else:\n",
    "            raise ValueError(f\"Unknown mode: {mode}. Use 'inference' or 'collect'\")\n",
    "\n",
    "    def get_action_probs(self, states, actions):\n",
    "        \"\"\"\n",
    "        Get probabilities for given states and actions.\n",
    "        Useful for calculating policy gradients.\n",
    "        \n",
    "        Args:\n",
    "            states: Preprocessed state tensor\n",
    "            actions: Tensor of actions taken\n",
    "            \n",
    "        Returns:\n",
    "            Tensor of action probabilities\n",
    "        \"\"\"\n",
    "        probs = self(states).squeeze()\n",
    "        probs = probs.view(*actions.shape)\n",
    "        action_probs = torch.where(\n",
    "            actions == self.RIGHTFIRE,\n",
    "            probs,\n",
    "            1.0 - probs\n",
    "        )\n",
    "        return action_probs\n",
    "        \n",
    "\n",
    "policy = Policy().to(device)\n",
    "policy"
   ]
  },
  {
   "cell_type": "code",
   "execution_count": 24,
   "metadata": {},
   "outputs": [],
   "source": [
    "# we use the adam optimizer with learning rate 1e-4\n",
    "optimizer = optim.Adam(policy.parameters(), lr=1e-4)"
   ]
  },
  {
   "cell_type": "markdown",
   "metadata": {},
   "source": [
    "### 5. Game Visualization\n",
    "Visualize the interaction process of the environment and the policy.\n",
    "\n",
    "<div style=\"text-align: center;\">\n",
    "    <img src=\"./images/interact.png\" alt=\"Mountain Car Environment\" width=\"60%\">\n",
    "</div>"
   ]
  },
  {
   "cell_type": "code",
   "execution_count": 9,
   "metadata": {},
   "outputs": [
    {
     "name": "stdout",
     "output_type": "stream",
     "text": [
      "Sample action on inference: 4\n",
      "Sample action on collect: [5 4 5 4]\n"
     ]
    }
   ],
   "source": [
    "# Random action function using numpy broadcasting\n",
    "def get_random_action(n):\n",
    "    return np.random.choice(\n",
    "        [Action.RIGHTFIRE.value, Action.LEFTFIRE.value],\n",
    "        size=n\n",
    "    )\n",
    "\n",
    "print(f\"Sample action on inference: {get_random_action(1).item()}\")\n",
    "print(f\"Sample action on collect: {get_random_action(4)}\")"
   ]
  },
  {
   "cell_type": "code",
   "execution_count": 10,
   "metadata": {},
   "outputs": [],
   "source": [
    "def perform_random_steps(env, nrand, parallel=False):\n",
    "    \"\"\"\n",
    "    Perform a number of random steps in the environment to initialize the game.\n",
    "    Supports both single and parallel environments.\n",
    "    \n",
    "    Args:\n",
    "        env: The game environment (single or parallel)\n",
    "        nrand (int): Number of random steps to perform\n",
    "        parallel (bool): Whether the environment is parallel\n",
    "        \n",
    "    Returns:\n",
    "        tuple: The last two frames after performing random steps\n",
    "    \"\"\"\n",
    "    # Reset environment\n",
    "    env.reset()\n",
    "\n",
    "    # Get environment size (1 for single env, n for parallel envs)\n",
    "    n = len(env.ps) if parallel else 1\n",
    "    \n",
    "    # Unified action definitions\n",
    "    fire_action = np.full(n, Action.FIRE.value, dtype=np.int32)\n",
    "    noop_action = np.full(n, Action.NOOP.value, dtype=np.int32)\n",
    "    \n",
    "    # Start the game with a FIRE action\n",
    "    env.step(fire_action.item() if n == 1 else fire_action)\n",
    "    \n",
    "    # Initialize frames\n",
    "    frames1, frames2 = None, None\n",
    "\n",
    "    # Perform random steps\n",
    "    for _ in range(nrand):\n",
    "        # Get and format random action\n",
    "        action = get_random_action(n)\n",
    "        frames1, _, dones, *_ = env.step(action.item() if n == 1 else action)\n",
    "        frames2, _, dones, *_ = env.step(noop_action.item() if n == 1 else noop_action)\n",
    "        \n",
    "        # Check termination condition\n",
    "        if (dones if n == 1 else dones.any()):\n",
    "            break\n",
    "    \n",
    "    return frames1, frames2"
   ]
  },
  {
   "cell_type": "code",
   "execution_count": 11,
   "metadata": {},
   "outputs": [],
   "source": [
    "def interact(env, policy, max_t=2000, preprocess=None, nrand=5):\n",
    "    \"\"\"\n",
    "    Play a game using the given policy and display the animation.\n",
    "\n",
    "    Args:\n",
    "        env: The game environment.\n",
    "        policy: The policy function to decide actions.\n",
    "        max_t (int): Maximum number of timesteps to play.\n",
    "        preprocess (callable): Function to preprocess frames (optional).\n",
    "        nrand (int): Number of random steps before using the policy.\n",
    "\n",
    "    Returns:\n",
    "        None\n",
    "    \"\"\"\n",
    "\n",
    "    # Initialize the game and perform random steps\n",
    "    frame1, frame2 = perform_random_steps(env, nrand)\n",
    "\n",
    "    selected_frames = []\n",
    "    for _ in range(max_t):\n",
    "        # Select an action using the policy\n",
    "        action = policy.select_action((frame1, frame2), mode='inference')\n",
    "\n",
    "        # Perform the action and a NOOP step\n",
    "        frame1, _, done, *_ = env.step(action)\n",
    "        frame2, _, done, *_ = env.step(Action.NOOP.value)\n",
    "\n",
    "        # Store the frame (preprocessed or raw)\n",
    "        selected_frames.append(preprocess(frame1) if preprocess else frame1)\n",
    "\n",
    "        # End the game if done\n",
    "        if done:\n",
    "            break\n",
    "\n",
    "    env.close()\n",
    "    save_animation(selected_frames)"
   ]
  },
  {
   "cell_type": "code",
   "execution_count": 12,
   "metadata": {},
   "outputs": [
    {
     "name": "stdout",
     "output_type": "stream",
     "text": [
      "Animation saved to animation.mp4\n"
     ]
    },
    {
     "data": {
      "image/png": "[encoded data removed]",
      "text/plain": [
       "<Figure size 640x480 with 1 Axes>"
      ]
     },
     "metadata": {},
     "output_type": "display_data"
    },
    {
     "data": {
      "image/png": "[encoded data removed]",
      "text/plain": [
       "<Figure size 640x480 with 1 Axes>"
      ]
     },
     "metadata": {},
     "output_type": "display_data"
    }
   ],
   "source": [
    "# after interact, open animation.mp4 see whole interact process\n",
    "interact(env, policy, max_t=2000, nrand=5)"
   ]
  },
  {
   "cell_type": "markdown",
   "metadata": {},
   "source": [
    "### 6. Rollout\n",
    "Before we start the training, we need to collect samples. To make things efficient we use parallelized environments to collect multiple examples at once\n",
    "\n",
    "\n",
    "<div style=\"text-align: center;\">\n",
    "    <img src=\"./images/parallel-collect.png\" alt=\"Mountain Car Environment\" width=\"60%\">\n",
    "</div>"
   ]
  },
  {
   "cell_type": "code",
   "execution_count": 13,
   "metadata": {},
   "outputs": [
    {
     "name": "stderr",
     "output_type": "stream",
     "text": [
      "A.L.E: Arcade Learning Environment (version 0.10.1+6a7e0ae)\n",
      "[Powered by Stella]\n",
      "A.L.E: Arcade Learning Environment (version 0.10.1+6a7e0ae)\n",
      "[Powered by Stella]\n",
      "A.L.E: Arcade Learning Environment (version 0.10.1+6a7e0ae)\n",
      "[Powered by Stella]\n",
      "A.L.E: Arcade Learning Environment (version 0.10.1+6a7e0ae)\n",
      "[Powered by Stella]\n",
      "A.L.E: Arcade Learning Environment (version 0.10.1+6a7e0ae)\n",
      "[Powered by Stella]\n",
      "A.L.E: Arcade Learning Environment (version 0.10.1+6a7e0ae)\n",
      "[Powered by Stella]\n",
      "A.L.E: Arcade Learning Environment (version 0.10.1+6a7e0ae)\n",
      "[Powered by Stella]\n"
     ]
    }
   ],
   "source": [
    "envs = ParallelEnv('PongDeterministic-v4', n=8, seed=42)"
   ]
  },
  {
   "cell_type": "code",
   "execution_count": 14,
   "metadata": {},
   "outputs": [
    {
     "name": "stderr",
     "output_type": "stream",
     "text": [
      "A.L.E: Arcade Learning Environment (version 0.10.1+6a7e0ae)\n",
      "[Powered by Stella]\n"
     ]
    }
   ],
   "source": [
    "# collect trajectories for a parallelized parallelEnv object\n",
    "def collect_trajectories(envs, policy, max_t=200, nrand=5):\n",
    "\n",
    "    # number of parallel instances\n",
    "    n = len(envs.ps)\n",
    "\n",
    "    # initialize returning lists and start the game!\n",
    "    states = torch.zeros(max_t, n, 2, 80, 80, device=device)\n",
    "    rewards = torch.zeros(max_t, n, device=device)\n",
    "    probs = torch.zeros(max_t, n, device=device)\n",
    "    actions = torch.zeros(max_t, n, dtype=torch.int8, device=device)\n",
    "\n",
    "    # Initialize the game and perform random steps\n",
    "    frame1, frame2 = perform_random_steps(envs, nrand, parallel=True)\n",
    "\n",
    "    for t in range(max_t):\n",
    "\n",
    "        # Predict actions\n",
    "        state, action, actions_prob = policy.select_action((frame1, frame2), mode='collect')\n",
    "\n",
    "        # Advance the game, we take one action and skip game forward\n",
    "        frame1, reward1, done, _ = envs.step(action)\n",
    "        frame2, reward2, done, _ = envs.step([Action.NOOP.value] * n)\n",
    "\n",
    "        reward = reward1 + reward2\n",
    "\n",
    "        # store the result\n",
    "        states[t] = state\n",
    "        rewards[t] = torch.from_numpy(reward)\n",
    "        probs[t] = torch.from_numpy(actions_prob)\n",
    "        actions[t] = torch.from_numpy(action)\n",
    "\n",
    "        # stop if any of the trajectories is done\n",
    "        # we want all the lists to be retangular\n",
    "        if done.any():\n",
    "            break\n",
    "    \n",
    "    # Convert time steps dimension into batch for vectorize inference\n",
    "    states = states.view(-1, 2, 80, 80)\n",
    "    \n",
    "    return states, actions, probs, rewards\n"
   ]
  },
  {
   "cell_type": "code",
   "execution_count": 15,
   "metadata": {},
   "outputs": [],
   "source": [
    "trajectories = collect_trajectories(envs, policy, max_t=100)\n",
    "states, actions, probs, rewards = trajectories"
   ]
  },
  {
   "cell_type": "markdown",
   "metadata": {},
   "source": [
    "### 7. Define Objective Function\n",
    "\n",
    "**Future Rewards Matrix $R^{\\rm future}$**\n",
    "\n",
    "<div style=\"text-align: center;\">\n",
    "    <img src=\"./images/discounts.png\" alt=\"Mountain Car Environment\" width=\"60%\">\n",
    "</div>\n",
    "\n",
    "**Policy Gradient**\n",
    "\n",
    "$$\n",
    "\\nabla_\\theta U(\\theta) \\approx \\hat{g} = \\frac{1}{B} \\frac{1}{T} \\sum_{i=1}^B \\sum^T_t \\nabla_\\theta \\log(\\pi_{\\theta'}(a_t|s_t)) R_{t} \n",
    "$$\n",
    "\n",
    "**Policy Gradient with Future Rewards**\n",
    "\n",
    "$$\n",
    "\\nabla_\\theta U(\\theta) \\approx \\hat{g} = \\frac{1}{B} \\frac{1}{T} \\sum_{i=1}^B \\sum^T_t \\nabla_\\theta \\log(\\pi_{\\theta'}(a_t|s_t)) R_{t}^{\\rm future}\n",
    "$$\n",
    "\n",
    "where $B$ is number of environments\n",
    "\n",
    "**[Regularization Term in TRPO](https://arxiv.org/pdf/1502.05477)**\n",
    "\n",
    "$$\n",
    "H(\\pi_{\\theta'}, \\pi_{\\theta}) = - \\frac{1}{B} \\frac{1}{T} \\sum_{i=1}^B \\sum^T_t \\pi_{\\theta'}(a_t|s_t) \\log\\pi_{\\theta}(a_t|s_t)\n",
    "$$\n",
    "\n",
    "where $\\theta$ is previous policy and $\\theta'$ is current policy\n",
    "\n",
    "**Final Policy Gradient**\n",
    "\n",
    "$$\n",
    "\\nabla_\\theta U(\\theta) \\approx \\hat{g} + \\beta * H(\\pi_{\\theta'}, \\pi_{\\theta})\n",
    "$$\n",
    "\n"
   ]
  },
  {
   "cell_type": "code",
   "execution_count": 16,
   "metadata": {},
   "outputs": [
    {
     "name": "stdout",
     "output_type": "stream",
     "text": [
      "Future rewards shape: torch.Size([100, 8])\n"
     ]
    }
   ],
   "source": [
    "def compute_future_rewards(rewards, gamma=0.99):\n",
    "    \"\"\"\n",
    "    Compute future rewards using discount factors and matrix multiplication.\n",
    "    \n",
    "    Args:\n",
    "        rewards: Tensor of rewards [T]\n",
    "        gamma: Discount factor\n",
    "        \n",
    "    Returns:\n",
    "        future_rewards: Tensor of future rewards [T]\n",
    "    \"\"\"\n",
    "    T = len(rewards)\n",
    "    indices = torch.arange(T).to(device=rewards.device)\n",
    "    discounts_matrix = gamma ** (indices.unsqueeze(0) - indices.unsqueeze(1)).clamp_min(0)\n",
    "    mask = torch.triu(torch.ones(T, T)).to(device=rewards.device)\n",
    "    future_rewards = torch.matmul(discounts_matrix * mask, rewards)\n",
    "\n",
    "    mean = future_rewards.mean(dim=1, keepdim=True)\n",
    "    std = future_rewards.std(dim=1, keepdim=True)\n",
    "    future_rewards = (future_rewards - mean) / (std + 1e-10)\n",
    "\n",
    "    return future_rewards\n",
    "\n",
    "print(\"Future rewards shape:\", compute_future_rewards(rewards).shape)"
   ]
  },
  {
   "cell_type": "code",
   "execution_count": 18,
   "metadata": {},
   "outputs": [
    {
     "data": {
      "text/plain": [
       "tensor(0.0072, device='mps:0', grad_fn=<AddBackward0>)"
      ]
     },
     "execution_count": 18,
     "metadata": {},
     "output_type": "execute_result"
    }
   ],
   "source": [
    "def policy_gradient(policy, states, actions, old_probs, rewards, gamma=0.995, beta=0.01):\n",
    "    \n",
    "    # Compute and normalize future rewards\n",
    "    future_rewards = compute_future_rewards(rewards, gamma=gamma)\n",
    "\n",
    "    # Convert states to probability\n",
    "    # probs shape: (time_steps, batch_size)\n",
    "    probs = policy.get_action_probs(states, actions)\n",
    "\n",
    "    # Compute policy gradient\n",
    "    # (1/B)(1/T)∑∑R_t^future * log(π_θ(a_t|s_t))\n",
    "    # g shape: (time_steps, batch_size)\n",
    "    log_probs = torch.log(probs + 1.0e-10)\n",
    "    g = (future_rewards * log_probs).mean()\n",
    "\n",
    "    # Regularization term\n",
    "    # add in 1.e-10 to avoid log(0) which gives nan\n",
    "    entropy = -(\n",
    "        probs * torch.log(old_probs + 1.0e-10)\n",
    "        + (1.0 - probs) * torch.log(1.0 - old_probs + 1.0e-10)\n",
    "    ).mean()\n",
    "\n",
    "    return g + beta * entropy\n",
    "\n",
    "pg = policy_gradient(policy, states, actions, probs, rewards)\n",
    "pg"
   ]
  },
  {
   "cell_type": "markdown",
   "metadata": {},
   "source": [
    "### 8. Training\n",
    "We are now ready to train our policy!\n",
    "\n",
    "**Multiple steps training**\n",
    "\n",
    "The performance for the one shot training may be poor, so it is beneficial to train multiple epochs, first using a small max_t=200 with 500 episodes, and then train again with max_t = 400 with 500 episodes, and then finally with a even larger max_t=800 with 500 episodes. It may take up to 90 minutes with Apple M3 Max GPU for total three steps."
   ]
  },
  {
   "cell_type": "code",
   "execution_count": 19,
   "metadata": {},
   "outputs": [],
   "source": [
    "def improved_reinforce(\n",
    "    envs,\n",
    "    policy,\n",
    "    optimizer,\n",
    "    n_episodes=500,\n",
    "    gamma=0.99,\n",
    "    beta=0.01,\n",
    "    max_t=320,\n",
    "    window=20,\n",
    "    checkpoint_path=\"checkpoint.pth\"\n",
    "):\n",
    "    \"\"\"\n",
    "    Improved REINFORCE algorithm implementation with parallel environments\n",
    "    \n",
    "    Parameters:\n",
    "    -----------\n",
    "    envs : list or VectorEnv\n",
    "        List of environments or vectorized environment\n",
    "    policy : nn.Module\n",
    "        Policy network\n",
    "    optimizer : torch.optim.Optimizer\n",
    "        Optimizer for policy network\n",
    "    n_episodes : int\n",
    "        Number of episodes to train\n",
    "    gamma : float\n",
    "        Discount factor\n",
    "    beta : float\n",
    "        Entropy coefficient for exploration\n",
    "    max_t : int\n",
    "        Maximum number of timesteps per episode\n",
    "    window : int\n",
    "        How often to print progress\n",
    "    checkpoint_path : str\n",
    "        Path to save the model checkpoint\n",
    "        \n",
    "    Returns:\n",
    "    --------\n",
    "    scores : list\n",
    "        List of mean rewards per episode\n",
    "    \"\"\"\n",
    "    n = len(envs.ps)\n",
    "\n",
    "    # keep track of progress\n",
    "    scores = []\n",
    "    best_score = float('-inf')\n",
    "    for i_episode in range(1, n_episodes + 1):\n",
    "        # collect trajectories\n",
    "        states, actions, probs, rewards = collect_trajectories(envs, policy, max_t=max_t)\n",
    "        \n",
    "        # calculate policy gradient\n",
    "        pg = policy_gradient(policy, states, actions, probs, rewards, gamma=gamma, beta=beta)\n",
    "        \n",
    "        # perform optimization step\n",
    "        loss = -pg\n",
    "        optimizer.zero_grad()\n",
    "        loss.backward()\n",
    "        optimizer.step()\n",
    "        \n",
    "        # reduce exploration over time\n",
    "        beta *= 0.995\n",
    "        \n",
    "        # calculate total rewards\n",
    "        total_rewards = rewards.sum(dim=0)\n",
    "        \n",
    "        # display progress\n",
    "        avg_score = total_rewards.mean().item()\n",
    "        \n",
    "        # store mean reward on batch\n",
    "        scores.append(avg_score)\n",
    "\n",
    "        if avg_score > best_score:\n",
    "            best_score = avg_score\n",
    "            torch.save(policy.state_dict(), checkpoint_path)\n",
    "            print(f\"Checkpoint saved with new best score: {best_score:.2f}\")\n",
    "        \n",
    "        if i_episode % window == 0:\n",
    "            print(f\"Episode {i_episode}\\tAverage Score: {avg_score:.2f}\")\n",
    "            print(f\"Total Rewards on {n} envs: {total_rewards.cpu().numpy()}\")\n",
    "    \n",
    "    return scores"
   ]
  },
  {
   "cell_type": "code",
   "execution_count": null,
   "metadata": {},
   "outputs": [],
   "source": [
    "# step1: using a small max_t=200 with 500 episodes\n",
    "scores = improved_reinforce(\n",
    "    envs=envs,\n",
    "    policy=policy,\n",
    "    optimizer=optimizer,\n",
    "    n_episodes=500,\n",
    "    gamma=0.99,\n",
    "    beta=0.01,\n",
    "    max_t=200,\n",
    "\twindow=20\n",
    ")"
   ]
  },
  {
   "cell_type": "code",
   "execution_count": null,
   "metadata": {},
   "outputs": [],
   "source": [
    "# step2: using a small max_t=400 with 500 episodes\n",
    "scores1 = improved_reinforce(\n",
    "    envs=envs,\n",
    "    policy=policy,\n",
    "    optimizer=optimizer,\n",
    "    n_episodes=500,\n",
    "    gamma=0.99,\n",
    "    beta=0.01,\n",
    "    max_t=400,\n",
    "\twindow=20\n",
    ")"
   ]
  },
  {
   "cell_type": "code",
   "execution_count": null,
   "metadata": {},
   "outputs": [],
   "source": [
    "# step3: using a small max_t=800 with 500 episodes\n",
    "scores2 = improved_reinforce(\n",
    "    envs=envs,\n",
    "    policy=policy,\n",
    "    optimizer=optimizer,\n",
    "    n_episodes=500,\n",
    "    gamma=0.99,\n",
    "    beta=0.01,\n",
    "    max_t=800,\n",
    "\twindow=20\n",
    ")"
   ]
  },
  {
   "cell_type": "code",
   "execution_count": 34,
   "metadata": {},
   "outputs": [
    {
     "data": {
      "text/plain": [
       "0           NaN\n",
       "1           NaN\n",
       "2           NaN\n",
       "3           NaN\n",
       "4           NaN\n",
       "         ...   \n",
       "1495   -1.27500\n",
       "1496   -1.27125\n",
       "1497   -1.26625\n",
       "1498   -1.27125\n",
       "1499   -1.26625\n",
       "Length: 1500, dtype: float64"
      ]
     },
     "execution_count": 34,
     "metadata": {},
     "output_type": "execute_result"
    },
    {
     "data": {
      "image/png": "[encoded data removed]",
      "text/plain": [
       "<Figure size 640x480 with 1 Axes>"
      ]
     },
     "metadata": {},
     "output_type": "display_data"
    }
   ],
   "source": [
    "plot_scores(scores+scores1+scores2)"
   ]
  },
  {
   "cell_type": "code",
   "execution_count": 35,
   "metadata": {},
   "outputs": [
    {
     "name": "stdout",
     "output_type": "stream",
     "text": [
      "Animation saved to animation.mp4\n"
     ]
    },
    {
     "data": {
      "image/png": "[encoded data removed]",
      "text/plain": [
       "<Figure size 640x480 with 1 Axes>"
      ]
     },
     "metadata": {},
     "output_type": "display_data"
    },
    {
     "data": {
      "image/png": "[encoded data removed]",
      "text/plain": [
       "<Figure size 640x480 with 1 Axes>"
      ]
     },
     "metadata": {},
     "output_type": "display_data"
    }
   ],
   "source": [
    "# play game after training!\n",
    "policy.load_state_dict(torch.load('checkpoint.pth', weights_only=True))\n",
    "interact(env, policy, max_t=2000)"
   ]
  },
  {
   "cell_type": "markdown",
   "metadata": {},
   "source": []
  }
 ],
 "metadata": {
  "kernelspec": {
   "display_name": "DRL",
   "language": "python",
   "name": "python3"
  },
  "language_info": {
   "codemirror_mode": {
    "name": "ipython",
    "version": 3
   },
   "file_extension": ".py",
   "mimetype": "text/x-python",
   "name": "python",
   "nbconvert_exporter": "python",
   "pygments_lexer": "ipython3",
   "version": "3.10.16"
  }
 },
 "nbformat": 4,
 "nbformat_minor": 2
}
