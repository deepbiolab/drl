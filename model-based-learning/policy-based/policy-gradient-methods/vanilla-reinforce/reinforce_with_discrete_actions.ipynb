{
 "cells": [
  {
   "cell_type": "markdown",
   "metadata": {},
   "source": [
    "# REINFORCE with Discrete Actions\n",
    "\n",
    "### 0. Background: Directly Modelling Optimal Policy\n",
    "\n",
    "To address the larger continuous state spaces, we explored how to use a **neural network** to represent the **optimal action-value function**, which forms the basis of the **[Value Based Methods](../../../value-based/), such as Deep Q Learning algorithm**.\n",
    "\n",
    "- In this case, the neural network takes the **state of the environment** as input and outputs the **value of each possible action**.\n",
    "- For example, in the \"CartPole\" environment, the possible actions are:\n",
    "  - Pushing the cart **to the left**.\n",
    "  - Pushing the cart **to the right**.\n",
    "\n",
    "Similar to the case of using a table, we can easily determine the **best action** for any given state by selecting the action that **maximizes the output values** of the neural network.\n",
    "\n",
    "Whether we use a **table** (for small state spaces) or a **neural network** (for large state spaces), we must first **estimate the optimal action-value function** before solving for the **optimal policy**.\n",
    "\n",
    "However, the question now arises: **Can we directly find the optimal policy without estimating the value function?**\n",
    "\n",
    "The answer is **yes**, and we can achieve this through a class of algorithms known as **policy based method**. One of method is called **Reinforce**\n",
    "\n",
    "#### Goal of DRL\n",
    "Our goal is to find the values of the neural network weights $\\theta$ that maximize the expected return $U(\\theta)$:\n",
    "\n",
    "$$\n",
    "U(\\theta) = \\sum_{\\tau} P(\\tau; \\theta) R(\\tau)\n",
    "$$\n",
    "\n",
    "Where:\n",
    "- $\\tau$ is an arbitrary trajectory.\n",
    "- $P(\\tau; \\theta)$ is the joint probability of the trajectory.\n",
    "- $R(\\tau)$ is the cumulative reward of the trajectory.\n",
    "\n",
    "We optimize $\\theta$ using **gradient ascent (similar to gradient descent but in opposite direction)**:\n",
    "$$\n",
    "\\theta \\leftarrow \\theta + \\alpha \\nabla_\\theta U(\\theta)\n",
    "$$\n",
    "\n",
    "\n",
    "<div style=\"text-align: center;\">\n",
    "    <img src=\"./images/policy-gradient.png\" alt=\"Mountain Car Environment\" width=\"70%\">\n",
    "</div>\n",
    "\n",
    "#### Algorithm Steps\n",
    "\n",
    "1. **Collect trajectories**  \n",
    "   Use the policy $\\pi_\\theta$ to collect $m$ trajectories:  \n",
    "   $$\n",
    "   \\{\\tau^{(1)}, \\tau^{(2)}, \\dots, \\tau^{(m)}\\}\n",
    "   $$\n",
    "   Each trajectory $\\tau^{(i)}$ is defined as:\n",
    "   $$\n",
    "   \\tau^{(i)} = (s_0^{(i)}, a_0^{(i)}, \\dots, s_H^{(i)}, a_H^{(i)}, s_{H+1}^{(i)})\n",
    "   $$\n",
    "   Where $H$ is the trajectory horizon.\n",
    "\n",
    "2. **Estimate the gradient**  \n",
    "   Use the sampled trajectories to estimate the gradient $\\nabla_\\theta U(\\theta)$:  \n",
    "   $$\n",
    "   \\nabla_\\theta U(\\theta) \\approx \\hat{g} = \\frac{1}{m} \\sum_{i=1}^m \\sum_{t=0}^H \\nabla_\\theta \\log \\pi_\\theta(a_t^{(i)} \\mid s_t^{(i)}) R(\\tau^{(i)})\n",
    "   $$\n",
    "\n",
    "3. **Update the policy parameters**  \n",
    "   Update the policy parameters using the gradient $\\hat{g}$:\n",
    "   $$\n",
    "   \\theta \\leftarrow \\theta + \\alpha \\hat{g}\n",
    "   $$\n",
    "\n",
    "4. **Repeat steps 1-3** until convergence.\n",
    "\n",
    "\n",
    "#### Formula Explanation\n",
    "\n",
    "- **Trajectory Probability**:  \n",
    "  $$\n",
    "  P(\\tau; \\theta) = P(s_0) \\prod_{t=0}^H \\pi_\\theta(a_t \\mid s_t) P(s_{t+1} \\mid s_t, a_t)\n",
    "  $$\n",
    "\n",
    "- **Gradient Estimation**:  \n",
    "  $$\n",
    "  \\nabla_\\theta U(\\theta) = \\mathbb{E}_{\\pi_\\theta} \\left[ \\nabla_\\theta \\log \\pi_\\theta(a \\mid s) R(\\tau) \\right]\n",
    "  $$\n",
    "\n",
    "- **Cumulative Reward (suppose discount is 1)**:  \n",
    "  $$\n",
    "  R(\\tau) = \\sum_{t=0}^H r(s_t, a_t)\n",
    "  $$\n",
    "\n",
    "---\n",
    "\n",
    "\n",
    "#### Summary\n",
    "\n",
    "- **Core Idea**: Directly optimize the policy parameters $\\theta$ to maximize the expected cumulative reward.\n",
    "- **Advantages**: Simple and easy to implement, applicable to both discrete and continuous action spaces.\n",
    "- **Disadvantages**: High variance in gradient estimates, leading to low training efficiency.\n",
    "\n",
    "\n",
    "In this notebook, we will train REINFORCE with OpenAI Gym's Cartpole environment."
   ]
  },
  {
   "cell_type": "markdown",
   "metadata": {},
   "source": [
    "### 1. Import the Necessary Packages"
   ]
  },
  {
   "cell_type": "code",
   "execution_count": 27,
   "metadata": {},
   "outputs": [],
   "source": [
    "import numpy as np\n",
    "import matplotlib.pyplot as plt\n",
    "from collections import deque\n",
    "import gymnasium as gym\n",
    "\n",
    "import torch\n",
    "import torch.nn as nn\n",
    "import torch.nn.functional as F\n",
    "import torch.optim as optim\n",
    "from torch.distributions import Categorical\n",
    "\n",
    "# for game rendering\n",
    "import time\n",
    "from PIL import Image\n",
    "from IPython import display\n",
    "\n",
    "torch.manual_seed(0) # set random seed\n",
    "gym.logger.min_level = 40\n",
    "%matplotlib inline"
   ]
  },
  {
   "cell_type": "markdown",
   "metadata": {},
   "source": [
    "### 2. Define the Architecture of the Policy"
   ]
  },
  {
   "cell_type": "code",
   "execution_count": 18,
   "metadata": {},
   "outputs": [
    {
     "name": "stdout",
     "output_type": "stream",
     "text": [
      "observation space:\n",
      " Box([-4.8               -inf -0.41887903        -inf], [4.8               inf 0.41887903        inf], (4,), float32)\n",
      "action space:\n",
      " Discrete(2)\n"
     ]
    }
   ],
   "source": [
    "env = gym.make('CartPole-v0')\n",
    "\n",
    "print('observation space:\\n', env.observation_space)\n",
    "print('action space:\\n', env.action_space)\n",
    "\n",
    "device = torch.device(\"cuda:0\" if torch.cuda.is_available() else \"cpu\")\n",
    "\n",
    "class Policy(nn.Module):\n",
    "    def __init__(self, s_size=4, h_size=16, a_size=2):\n",
    "        super(Policy, self).__init__()\n",
    "        self.fc1 = nn.Linear(s_size, h_size)\n",
    "        self.fc2 = nn.Linear(h_size, a_size)\n",
    "\n",
    "    def forward(self, x):\n",
    "        x = F.relu(self.fc1(x))\n",
    "        x = self.fc2(x)\n",
    "        return F.softmax(x, dim=1)\n",
    "\n",
    "    def select_action(self, state):\n",
    "        state = torch.from_numpy(state).float().unsqueeze(0).to(device)\n",
    "        probs = self.forward(state).cpu()\n",
    "        m = Categorical(probs)\n",
    "        action = m.sample()\n",
    "        return action.item(), m.log_prob(action)"
   ]
  },
  {
   "cell_type": "markdown",
   "metadata": {},
   "source": [
    "### 3. Train the Agent with REINFORCE"
   ]
  },
  {
   "cell_type": "code",
   "execution_count": 25,
   "metadata": {},
   "outputs": [
    {
     "name": "stdout",
     "output_type": "stream",
     "text": [
      "Episode 100\tAverage Score: 31.11\n",
      "Episode 200\tAverage Score: 52.79\n",
      "Episode 300\tAverage Score: 142.20\n",
      "Environment solved in 269 episodes!\tAverage Score: 195.23\n"
     ]
    }
   ],
   "source": [
    "policy = Policy().to(device)\n",
    "optimizer = optim.Adam(policy.parameters(), lr=1e-2)\n",
    "\n",
    "\n",
    "def reinforce(n_episodes=1000, max_t=1000, gamma=1.0, window=100):\n",
    "    scores_window = deque(maxlen=window)\n",
    "\n",
    "    scores = []\n",
    "    for i_episode in range(1, n_episodes + 1):\n",
    "        log_probs = []\n",
    "        rewards = []\n",
    "        state, _ = env.reset()\n",
    "        for t in range(max_t):\n",
    "            action, log_prob = policy.select_action(state)\n",
    "            state, reward, done, _, _ = env.step(action)\n",
    "            log_probs.append(log_prob)\n",
    "            rewards.append(reward)\n",
    "\n",
    "            if done:\n",
    "                break\n",
    "\n",
    "        discounts = torch.tensor(gamma**np.arange(len(rewards)), dtype=torch.float)\n",
    "        rewards = torch.tensor(rewards, dtype=torch.float)\n",
    "        R = discounts.dot(rewards)\n",
    "\n",
    "        log_probs = torch.cat(log_probs)\n",
    "        log_likelihood = log_probs.sum()\n",
    "        loss = -log_likelihood * R\n",
    "\n",
    "        optimizer.zero_grad()\n",
    "        loss.backward()\n",
    "        optimizer.step()\n",
    "\n",
    "        scores.append(sum(rewards))\n",
    "        scores_window.append(sum(rewards))\n",
    "\n",
    "        avg_score = np.mean(scores_window)\n",
    "        if i_episode % window == 0:\n",
    "            print(f\"Episode {i_episode}\\tAverage Score: {avg_score:.2f}\")\n",
    "\n",
    "        if avg_score >= 195.0:\n",
    "            print(\n",
    "                f\"Environment solved in {i_episode-window:d} episodes!\\tAverage Score: {avg_score:.2f}\"\n",
    "            )\n",
    "            break\n",
    "\n",
    "    return scores\n",
    "\n",
    "\n",
    "scores = reinforce(n_episodes=1000, max_t=1000, gamma=1.0, window=100)"
   ]
  },
  {
   "cell_type": "markdown",
   "metadata": {},
   "source": [
    "### 4. Plot the Scores"
   ]
  },
  {
   "cell_type": "code",
   "execution_count": 26,
   "metadata": {},
   "outputs": [
    {
     "data": {
      "image/png": "[encoded data removed]",
      "text/plain": [
       "<Figure size 640x480 with 1 Axes>"
      ]
     },
     "metadata": {},
     "output_type": "display_data"
    }
   ],
   "source": [
    "fig = plt.figure()\n",
    "ax = fig.add_subplot(111)\n",
    "plt.plot(np.arange(1, len(scores)+1), scores)\n",
    "plt.ylabel('Score')\n",
    "plt.xlabel('Episode #')\n",
    "plt.show()"
   ]
  },
  {
   "cell_type": "markdown",
   "metadata": {},
   "source": [
    "### 5. Watch a Smart Agent!"
   ]
  },
  {
   "cell_type": "code",
   "execution_count": 30,
   "metadata": {},
   "outputs": [
    {
     "data": {
      "image/jpeg": "[encoded data removed]",
      "image/png": "[encoded data removed]",
      "text/plain": [
       "<PIL.Image.Image image mode=RGB size=600x400>"
      ]
     },
     "metadata": {},
     "output_type": "display_data"
    }
   ],
   "source": [
    "env = gym.make(\"CartPole-v0\", render_mode=\"rgb_array\")\n",
    "\n",
    "state, _ = env.reset()\n",
    "for t in range(1000):\n",
    "    # clear frame\n",
    "    display.clear_output(wait=True)\n",
    "\n",
    "    action, _ = policy.select_action(state)\n",
    "\n",
    "    # render game\n",
    "    frame = env.render()\n",
    "    display.display(Image.fromarray(frame))\n",
    "    time.sleep(0.05)\n",
    "\n",
    "    state, reward, done, _, _ = env.step(action)\n",
    "    if done:\n",
    "        break \n",
    "\n",
    "env.close()"
   ]
  },
  {
   "cell_type": "markdown",
   "metadata": {},
   "source": [
    "### Discussion\n",
    "What are the main problems of REINFORCE? There are three issues:\n",
    "\n",
    "- The update process is very inefficient! We run the policy once, update once, and then throw away the trajectory.\n",
    "\n",
    "- The gradient estimate $g$ is very noisy. By chance the collected trajectory may not be representative of the policy.\n",
    "\n",
    "- There is no clear credit assignment. A trajectory may contain many good/bad actions and whether these actions are reinforced depends only on the final total output."
   ]
  },
  {
   "cell_type": "code",
   "execution_count": null,
   "metadata": {},
   "outputs": [],
   "source": []
  }
 ],
 "metadata": {
  "anaconda-cloud": {},
  "kernelspec": {
   "display_name": "DRL",
   "language": "python",
   "name": "python3"
  },
  "language_info": {
   "codemirror_mode": {
    "name": "ipython",
    "version": 3
   },
   "file_extension": ".py",
   "mimetype": "text/x-python",
   "name": "python",
   "nbconvert_exporter": "python",
   "pygments_lexer": "ipython3",
   "version": "3.10.16"
  }
 },
 "nbformat": 4,
 "nbformat_minor": 2
}
