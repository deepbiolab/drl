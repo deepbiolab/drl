{
 "cells": [
  {
   "cell_type": "markdown",
   "metadata": {},
   "source": [
    "# Cross-Entropy Method\n",
    "\n",
    "### 0. Background: Cross-Entropy Method and Evolution Strategies\n",
    "\n",
    "In addition to [hill climbing](../hill-climbing/hill_climbing.ipynb), other black-box optimization techniques include:\n",
    "\n",
    "1. **Cross-Entropy Method**:\n",
    "   - Select the top-performing policies and average their parameters to guide the search.\n",
    "2. **Evolution Strategies**:\n",
    "   - Use a weighted sum of all candidate policies, where higher-performing policies have greater influence.\n",
    "\n",
    "These methods leverage information from multiple policies, making them more robust and efficient than hill climbing. In this section, we will explore the implementation of these algorithms and compare their performance.\n",
    "\n",
    "---\n",
    "\n",
    "In this notebook, we will train the Cross-Entropy Method with OpenAI Gym's MountainCarContinuous environment."
   ]
  },
  {
   "cell_type": "markdown",
   "metadata": {},
   "source": [
    "### 1. Import the Necessary Packages"
   ]
  },
  {
   "cell_type": "code",
   "execution_count": 6,
   "metadata": {},
   "outputs": [],
   "source": [
    "import math\n",
    "import numpy as np\n",
    "import gymnasium as gym\n",
    "from collections import deque\n",
    "import matplotlib.pyplot as plt\n",
    "\n",
    "import time\n",
    "from PIL import Image\n",
    "from IPython import display\n",
    "\n",
    "import torch\n",
    "import torch.nn as nn\n",
    "import torch.nn.functional as F\n",
    "\n",
    "%matplotlib inline"
   ]
  },
  {
   "cell_type": "markdown",
   "metadata": {},
   "source": [
    "### 2. Instantiate the Environment and Agent"
   ]
  },
  {
   "cell_type": "code",
   "execution_count": 2,
   "metadata": {},
   "outputs": [
    {
     "name": "stdout",
     "output_type": "stream",
     "text": [
      "Training on: mps\n",
      "observation space:\n",
      " Box([-1.2  -0.07], [0.6  0.07], (2,), float32)\n",
      "action space:\n",
      " Box(-1.0, 1.0, (1,), float32)\n",
      "  - low: [-1.]\n",
      "  - high: [1.]\n"
     ]
    }
   ],
   "source": [
    "device = torch.device(\"cuda:0\" if torch.cuda.is_available() else \n",
    "                      \"mps\" if torch.backends.mps.is_available() else \n",
    "                      \"cpu\")\n",
    "print(f\"Training on: {device}\")\n",
    "\n",
    "env = gym.make('MountainCarContinuous-v0')\n",
    "\n",
    "np.random.seed(101)\n",
    "\n",
    "print('observation space:\\n', env.observation_space)\n",
    "print('action space:\\n', env.action_space)\n",
    "print('  - low:', env.action_space.low)\n",
    "print('  - high:', env.action_space.high)"
   ]
  },
  {
   "cell_type": "code",
   "execution_count": 3,
   "metadata": {},
   "outputs": [],
   "source": [
    "class Agent(nn.Module):\n",
    "    def __init__(self, env, h_size=16):\n",
    "        super(Agent, self).__init__()\n",
    "        self.env = env\n",
    "        self.s_size = env.observation_space.shape[0]\n",
    "        self.h_size = h_size\n",
    "        self.a_size = env.action_space.shape[0]\n",
    "\n",
    "        self.fc1 = nn.Linear(self.s_size, self.h_size)\n",
    "        self.fc2 = nn.Linear(self.h_size, self.a_size)\n",
    "        \n",
    "    def set_weights(self, weights):\n",
    "        \"\"\"\n",
    "        Set the weights for the neural network layers using a flat array of weights.\n",
    "\n",
    "        Args:\n",
    "            weights (numpy.ndarray): Flat array containing weights for all layers.\n",
    "        \"\"\"\n",
    "        def extract_weights(start, size):\n",
    "            \"\"\"Helper function to extract and reshape weights.\"\"\"\n",
    "            end = start + size\n",
    "            return torch.from_numpy(weights[start:end]), end\n",
    "\n",
    "        # Extract and reshape weights for fc1 layer\n",
    "        fc1_weight_size = self.s_size * self.h_size\n",
    "        fc1_bias_size = self.h_size\n",
    "\n",
    "        fc1_W, next_idx = extract_weights(0, fc1_weight_size)\n",
    "        fc1_b, next_idx = extract_weights(next_idx, fc1_bias_size)\n",
    "\n",
    "        # Extract and reshape weights for fc2 layer\n",
    "        fc2_weight_size = self.h_size * self.a_size\n",
    "        fc2_bias_size = self.a_size\n",
    "\n",
    "        fc2_W, next_idx = extract_weights(next_idx, fc2_weight_size)\n",
    "        fc2_b, _ = extract_weights(next_idx, fc2_bias_size)\n",
    "\n",
    "        # Set the weights for each layer\n",
    "        self.fc1.weight.data.copy_(fc1_W.view_as(self.fc1.weight.data))\n",
    "        self.fc1.bias.data.copy_(fc1_b.view_as(self.fc1.bias.data))\n",
    "        self.fc2.weight.data.copy_(fc2_W.view_as(self.fc2.weight.data))\n",
    "        self.fc2.bias.data.copy_(fc2_b.view_as(self.fc2.bias.data))\n",
    "    \n",
    "    def get_weights_dim(self):\n",
    "        \"\"\"\n",
    "        Calculate the total number of weights and biases required for the network.\n",
    "\n",
    "        Returns:\n",
    "            int: Total number of weights and biases.\n",
    "        \"\"\"\n",
    "        return (self.s_size + 1) * self.h_size + (self.h_size + 1) * self.a_size\n",
    "        \n",
    "    def forward(self, x):\n",
    "        x = F.relu(self.fc1(x))\n",
    "        x = F.tanh(self.fc2(x))\n",
    "        return x.cpu().data\n",
    "        \n",
    "    def evaluate(self, weights, gamma=1.0, max_t=5000):\n",
    "        \"\"\"\n",
    "        Evaluate the agent's performance using the given weights.\n",
    "\n",
    "        Args:\n",
    "            weights (numpy.ndarray): Flat array containing weights for all layers.\n",
    "            gamma (float): Discount factor.\n",
    "            max_t (int): Maximum number of timesteps per episode.\n",
    "\n",
    "        Returns:\n",
    "            float: Total discounted return for the episode.\n",
    "        \"\"\"\n",
    "        self.set_weights(weights)\n",
    "        episode_return = 0.0\n",
    "        state, _ = self.env.reset()\n",
    "        for t in range(max_t):\n",
    "            state = torch.from_numpy(state).float().to(device)\n",
    "            action = self.forward(state)\n",
    "            state, reward, done, _, _ = self.env.step(action)\n",
    "            episode_return += reward * math.pow(gamma, t)\n",
    "            if done:\n",
    "                break\n",
    "        return episode_return\n",
    "    \n",
    "agent = Agent(env).to(device)"
   ]
  },
  {
   "cell_type": "markdown",
   "metadata": {},
   "source": [
    "### 3. Train the Agent with the Cross-Entropy Method\n"
   ]
  },
  {
   "cell_type": "code",
   "execution_count": 4,
   "metadata": {},
   "outputs": [
    {
     "name": "stdout",
     "output_type": "stream",
     "text": [
      "Episode 10\tAverage Score: -11.79\n",
      "Episode 20\tAverage Score: -23.53\n",
      "Episode 30\tAverage Score: 5.64\n",
      "Episode 40\tAverage Score: 57.94\n",
      "\n",
      "Environment solved in -54 iterations!\tAverage Score: 91.85\n"
     ]
    },
    {
     "data": {
      "image/png": "[encoded data removed]",
      "text/plain": [
       "<Figure size 640x480 with 1 Axes>"
      ]
     },
     "metadata": {},
     "output_type": "display_data"
    }
   ],
   "source": [
    "def cem(\n",
    "    n_iterations=500,\n",
    "    max_t=1000,\n",
    "    gamma=1.0,\n",
    "    window=10,\n",
    "    population_size=50,\n",
    "    elite_frac=0.2,\n",
    "    sigma=0.5,\n",
    "):\n",
    "    \"\"\"PyTorch implementation of the cross-entropy method.\n",
    "\n",
    "    Params\n",
    "    ======\n",
    "        n_iterations (int): maximum number of training iterations\n",
    "        max_t (int): maximum number of timesteps per episode\n",
    "        gamma (float): discount rate\n",
    "        window (int): how often to print average score (over last 100 episodes)\n",
    "        population_size (int): size of population at each iteration\n",
    "        elite_frac (float): percentage of top performers to use in update\n",
    "        sigma (float): standard deviation of additive noise\n",
    "    \"\"\"\n",
    "    n_elite = int(population_size * elite_frac)\n",
    "\n",
    "    scores_window = deque(maxlen=window)\n",
    "    scores = []\n",
    "    best_weight = sigma * np.random.randn(agent.get_weights_dim())\n",
    "\n",
    "    for i_iteration in range(1, n_iterations + 1):\n",
    "        weights_population = [\n",
    "            best_weight + (sigma * np.random.randn(agent.get_weights_dim()))\n",
    "            for i in range(population_size)\n",
    "        ]\n",
    "        rewards = np.array(\n",
    "            [agent.evaluate(weights, gamma, max_t) for weights in weights_population]\n",
    "        )\n",
    "\n",
    "        elite_idxs = rewards.argsort()[-n_elite:]\n",
    "        elite_weights = [weights_population[i] for i in elite_idxs]\n",
    "        best_weight = np.array(elite_weights).mean(axis=0)\n",
    "\n",
    "        reward = agent.evaluate(best_weight, gamma=1.0)\n",
    "        \n",
    "        scores_window.append(reward)\n",
    "        scores.append(reward)\n",
    "\n",
    "        torch.save(agent.state_dict(), \"checkpoint.pth\")\n",
    "\n",
    "        if i_iteration % window == 0:\n",
    "            print(\n",
    "                \"Episode {}\\tAverage Score: {:.2f}\".format(\n",
    "                    i_iteration, np.mean(scores_window)\n",
    "                )\n",
    "            )\n",
    "\n",
    "        if np.mean(scores_window) >= 90.0:\n",
    "            print(\n",
    "                \"\\nEnvironment solved in {:d} iterations!\\tAverage Score: {:.2f}\".format(\n",
    "                    i_iteration - 100, np.mean(scores_window)\n",
    "                )\n",
    "            )\n",
    "            break\n",
    "    return scores\n",
    "\n",
    "\n",
    "scores = cem(\n",
    "    n_iterations=500,\n",
    "    max_t=1000,\n",
    "    gamma=1.0,\n",
    "    window=10,\n",
    "    population_size=50,\n",
    "    elite_frac=0.2,\n",
    "    sigma=0.5,\n",
    ")\n",
    "\n",
    "# plot the scores\n",
    "fig = plt.figure()\n",
    "ax = fig.add_subplot(111)\n",
    "plt.plot(np.arange(1, len(scores) + 1), scores)\n",
    "plt.ylabel(\"Score\")\n",
    "plt.xlabel(\"Episode #\")\n",
    "plt.show()"
   ]
  },
  {
   "cell_type": "markdown",
   "metadata": {},
   "source": [
    "### 4. Watch a Smart Agent!\n"
   ]
  },
  {
   "cell_type": "code",
   "execution_count": 7,
   "metadata": {},
   "outputs": [
    {
     "data": {
      "image/jpeg": "[encoded data removed]",
      "image/png": "[encoded data removed]",
      "text/plain": [
       "<PIL.Image.Image image mode=RGB size=600x400>"
      ]
     },
     "metadata": {},
     "output_type": "display_data"
    }
   ],
   "source": [
    "# load the weights from file\n",
    "agent.load_state_dict(torch.load('checkpoint.pth'))\n",
    "\n",
    "env = gym.make('MountainCarContinuous-v0', render_mode=\"rgb_array\")\n",
    "\n",
    "state, _ = env.reset()\n",
    "while True:\n",
    "    display.clear_output(wait=True)\n",
    "    \n",
    "    state = torch.from_numpy(state).float().to(device)\n",
    "    with torch.no_grad():\n",
    "        action = agent(state)\n",
    "    \n",
    "    # render game\n",
    "    frame = env.render()\n",
    "    display.display(Image.fromarray(frame))\n",
    "    time.sleep(0.01)\n",
    "\n",
    "    next_state, reward, done, _, _ = env.step(action)\n",
    "    state = next_state\n",
    "    if done:\n",
    "        break\n",
    "\n",
    "env.close()"
   ]
  }
 ],
 "metadata": {
  "anaconda-cloud": {},
  "kernelspec": {
   "display_name": "DRL",
   "language": "python",
   "name": "python3"
  },
  "language_info": {
   "codemirror_mode": {
    "name": "ipython",
    "version": 3
   },
   "file_extension": ".py",
   "mimetype": "text/x-python",
   "name": "python",
   "nbconvert_exporter": "python",
   "pygments_lexer": "ipython3",
   "version": "3.10.16"
  }
 },
 "nbformat": 4,
 "nbformat_minor": 2
}
