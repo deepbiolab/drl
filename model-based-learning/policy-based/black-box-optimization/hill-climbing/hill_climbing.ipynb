{
 "cells": [
  {
   "cell_type": "markdown",
   "metadata": {},
   "source": [
    "# Hill Climbing\n",
    "\n",
    "### 0. Background: Directly Optimizing Policies\n",
    "\n",
    "In the previous section, we discussed how **[value-based methods](../../../value-based/)** rely on estimating the optimal action-value function before deriving the optimal policy. However, **policy-based methods** take a different approach by directly optimizing the policy without the need to compute value functions. This is particularly useful in environments with **continuous action spaces**, where value-based methods struggle to scale effectively.\n",
    "\n",
    "#### Representing Policies with Neural Networks\n",
    "\n",
    "Using the **CartPole** example, the agent has two possible actions: it can push the cart either **to the left** or **to the right**. At each time step, the agent selects one action from these two options. \n",
    "\n",
    "We can represent the agent's policy using a neural network:\n",
    "- The network takes the **state** of the environment as input.\n",
    "- It outputs the **probabilities** of selecting each possible action. For example:\n",
    "  - **90%** probability of \"push left.\"\n",
    "  - **10%** probability of \"push right.\"\n",
    "\n",
    "The agent interacts with the environment by:\n",
    "1. Passing the current state into the network.\n",
    "2. Sampling an action based on the output probabilities.\n",
    "3. Executing the selected action in the environment.\n",
    "\n",
    "#### Goal of Policy Optimization\n",
    "\n",
    "The main goal of policy optimization is to adjust the **network weights** such that the policy maximizes the **expected return**. This is achieved by:\n",
    "1. Iteratively improving the network weights through interaction with the environment.\n",
    "2. Learning to assign higher probabilities to actions that yield higher rewards.\n",
    "\n",
    "#### Black-Box Optimization Techniques\n",
    "\n",
    "Let the **expected return** be denoted as $J$, and the neural network weights as $\\theta$. There exists a mathematical relationship between $\\theta$ and $J$, as $\\theta$ encodes the policy, which influences:\n",
    "- The likelihood of selecting certain actions.\n",
    "- The rewards obtained from those actions.\n",
    "\n",
    "Although the exact relationship between $J$ and $\\theta$ may be complex, the goal remains the same: **maximize $J$ by finding the optimal values for $\\theta$**. These methods treat the policy network as a **black box** and focus solely on maximizing the objective function $J(\\theta)$ without requiring knowledge of its internal structure. This makes them versatile but less efficient compared to gradient-based methods.\n",
    "\n",
    "#### Hill Climbing: A Simpler Approach\n",
    "\n",
    "An alternative to gradient ascent is **hill climbing**, a simpler algorithm for optimizing policies:\n",
    "1. Start with a random set of weights $\\theta$.\n",
    "2. Collect an episode using the policy defined by $\\theta$ and record the return $G$.\n",
    "3. Add random noise to $\\theta$ to generate a new set of candidate weights $\\theta_{\\text{new}}$.\n",
    "4. Evaluate the return $G_{\\text{new}}$ for the new weights:\n",
    "   - If $G_{\\text{new}}$ is greater than the current best return, update $\\theta_{\\text{best}}$ to $\\theta_{\\text{new}}$.\n",
    "   - Otherwise, keep the current $\\theta_{\\text{best}}$.\n",
    "5. Repeat the process until the policy converges.\n",
    "\n",
    "#### Advanced Variants of Hill Climbing\n",
    "\n",
    "While hill climbing is simple to implement, it has some limitations:\n",
    "- It can easily get stuck in **local optima**, failing to find the global maximum.\n",
    "- The algorithm relies heavily on random perturbations, which may lead to inefficient exploration.\n",
    "\n",
    "To address these limitations, several modifications can be applied:\n",
    "1. **Steepest-Ascent Hill Climbing**:\n",
    "   - Generate multiple candidate policies at each iteration.\n",
    "   - Select the best policy among the candidates to update $\\theta_{\\text{best}}$.\n",
    "2. **Simulated Annealing**:\n",
    "   - Gradually reduce the magnitude of random perturbations as the policy converges.\n",
    "   - This helps the algorithm focus on fine-tuning the policy near the optimal solution.\n",
    "3. **Adaptive Noise Scaling**:\n",
    "   - Increase the search radius when no improvement is found.\n",
    "   - Decrease the search radius when a better policy is discovered.\n",
    "\n",
    "In this notebook, we will train hill climbing with adaptive noise scaling with OpenAI Gym's Cartpole environment."
   ]
  },
  {
   "cell_type": "markdown",
   "metadata": {},
   "source": [
    "### 1. Import the Necessary Packages"
   ]
  },
  {
   "cell_type": "code",
   "execution_count": 2,
   "metadata": {},
   "outputs": [],
   "source": [
    "import gymnasium as gym\n",
    "import numpy as np\n",
    "from collections import deque\n",
    "import matplotlib.pyplot as plt\n",
    "\n",
    "import time\n",
    "from PIL import Image\n",
    "from IPython import display\n",
    "\n",
    "%matplotlib inline"
   ]
  },
  {
   "cell_type": "markdown",
   "metadata": {},
   "source": [
    "### 2. Define the Policy"
   ]
  },
  {
   "cell_type": "code",
   "execution_count": 6,
   "metadata": {},
   "outputs": [
    {
     "name": "stdout",
     "output_type": "stream",
     "text": [
      "observation space:\n",
      " Box([-4.8               -inf -0.41887903        -inf], [4.8               inf 0.41887903        inf], (4,), float32)\n",
      "action space:\n",
      " Discrete(2)\n"
     ]
    }
   ],
   "source": [
    "env = gym.make('CartPole-v1')\n",
    "print('observation space:\\n', env.observation_space)\n",
    "print('action space:\\n', env.action_space)\n",
    "\n",
    "class Policy:\n",
    "    def __init__(self, s_size=4, a_size=2):\n",
    "        self.w = 1e-4*np.random.rand(s_size, a_size)  # weights for simple linear policy: state_space x action_space\n",
    "        \n",
    "    def forward(self, state):\n",
    "        x = np.dot(state, self.w)\n",
    "        return np.exp(x)/sum(np.exp(x))\n",
    "    \n",
    "    def select_action(self, state):\n",
    "        probs = self.forward(state)\n",
    "        #action = np.random.choice(2, p=probs) # option 1: stochastic policy\n",
    "        action = np.argmax(probs)              # option 2: deterministic policy\n",
    "        return action"
   ]
  },
  {
   "cell_type": "markdown",
   "metadata": {},
   "source": [
    "### 3. Train the Agent with Stochastic Policy Search"
   ]
  },
  {
   "cell_type": "markdown",
   "metadata": {},
   "source": [
    "#### Hill Climbing\n",
    "\n",
    "1. Start with a random set of weights $\\theta$.\n",
    "2. Collect an episode using the policy defined by $\\theta$ and record the return $G$.\n",
    "3. Add random noise to $\\theta$ to generate a new set of candidate weights $\\theta_{\\text{new}}$.\n",
    "4. Evaluate the return $G_{\\text{new}}$ for the new weights:\n",
    "   - If $G_{\\text{new}}$ is greater than the current best return, update $\\theta_{\\text{best}}$ to $\\theta_{\\text{new}}$ by decrease the search radius when a better policy is discovered.\n",
    "   - Otherwise, Adaptive Noise Scaling by increase the search radius when no improvement is found.\n",
    "5. Repeat the process until the policy converges."
   ]
  },
  {
   "cell_type": "code",
   "execution_count": 62,
   "metadata": {},
   "outputs": [
    {
     "name": "stdout",
     "output_type": "stream",
     "text": [
      "Environment solved in -79 episodes!\tAverage Score: 227.57\n"
     ]
    }
   ],
   "source": [
    "np.random.seed(0)\n",
    "env = gym.make('CartPole-v1')\n",
    "policy = Policy()\n",
    "\n",
    "def hill_climbing(n_episodes=1000, max_t=1000, gamma=1.0, window=100, noise_scale=1e-2):\n",
    "    \"\"\"Implementation of hill climbing with adaptive noise scaling.\n",
    "\n",
    "    Params\n",
    "    ======\n",
    "        n_episodes (int): maximum number of training episodes\n",
    "        max_t (int): maximum number of timesteps per episode\n",
    "        gamma (float): discount rate\n",
    "        window (int): how often to print average score (over last 100 episodes)\n",
    "        noise_scale (float): standard deviation of additive noise\n",
    "    \"\"\"\n",
    "    scores_window = deque(maxlen=window)\n",
    "    scores = []\n",
    "\n",
    "    best_R = -np.inf\n",
    "    best_w = policy.w\n",
    "\n",
    "    for i_episode in range(1, n_episodes + 1):\n",
    "        rewards = []\n",
    "        state, _ = env.reset()\n",
    "        for t in range(max_t):\n",
    "            action = policy.select_action(state)\n",
    "            state, reward, done, _, _ = env.step(action)\n",
    "            rewards.append(reward)\n",
    "            if done:\n",
    "                break\n",
    "\n",
    "        scores_window.append(sum(rewards))\n",
    "        scores.append(sum(rewards))\n",
    "\n",
    "        discounts = [gamma**i for i in range(len(rewards) + 1)]\n",
    "        R = sum([a * b for a, b in zip(discounts, rewards)])\n",
    "    \n",
    "        if R >= best_R:  # found better weights\n",
    "            best_R = R\n",
    "            best_w = policy.w\n",
    "            noise_scale = max(1e-3, noise_scale / 2)\n",
    "            policy.w += noise_scale * np.random.rand(*policy.w.shape)\n",
    "        else:  # did not find better weights\n",
    "            noise_scale = min(2, noise_scale * 2)\n",
    "            policy.w = best_w + noise_scale * np.random.rand(*policy.w.shape)\n",
    "\n",
    "        if i_episode % window == 0:\n",
    "            print(\n",
    "                \"Episode {}\\tAverage Score: {:.2f}\".format(\n",
    "                    i_episode, np.mean(scores_window)\n",
    "                )\n",
    "            )\n",
    "        if np.mean(scores_window) >= 195.0:\n",
    "            print(\n",
    "                \"Environment solved in {:d} episodes!\\tAverage Score: {:.2f}\".format(\n",
    "                    i_episode - window, np.mean(scores_window)\n",
    "                )\n",
    "            )\n",
    "            policy.w = best_w\n",
    "            break\n",
    "\n",
    "    return scores\n",
    "\n",
    "\n",
    "scores = hill_climbing(\n",
    "    n_episodes=1000, max_t=1000, gamma=1.0, window=100, noise_scale=5e-2\n",
    ")"
   ]
  },
  {
   "cell_type": "markdown",
   "metadata": {},
   "source": [
    "### 4. Plot the Scores"
   ]
  },
  {
   "cell_type": "code",
   "execution_count": 63,
   "metadata": {},
   "outputs": [
    {
     "data": {
      "image/png": "[encoded data removed]",
      "text/plain": [
       "<Figure size 640x480 with 1 Axes>"
      ]
     },
     "metadata": {},
     "output_type": "display_data"
    }
   ],
   "source": [
    "fig = plt.figure()\n",
    "ax = fig.add_subplot(111)\n",
    "plt.plot(np.arange(1, len(scores)+1), scores)\n",
    "plt.ylabel('Score')\n",
    "plt.xlabel('Episode #')\n",
    "plt.show()"
   ]
  },
  {
   "cell_type": "markdown",
   "metadata": {},
   "source": [
    "### 5. Watch a Smart Agent!"
   ]
  },
  {
   "cell_type": "code",
   "execution_count": 27,
   "metadata": {},
   "outputs": [
    {
     "data": {
      "image/jpeg": "[encoded data removed]",
      "image/png": "[encoded data removed]",
      "text/plain": [
       "<PIL.Image.Image image mode=RGB size=600x400>"
      ]
     },
     "metadata": {},
     "output_type": "display_data"
    }
   ],
   "source": [
    "env = gym.make('CartPole-v1', render_mode=\"rgb_array\")\n",
    "state, info = env.reset()\n",
    "total_reward = 0\n",
    "for t in range(200):\n",
    "    # clear frame\n",
    "    display.clear_output(wait=True)\n",
    "\n",
    "    action = policy.select_action(state)\n",
    "\n",
    "    # render game\n",
    "    frame = env.render()\n",
    "    display.display(Image.fromarray(frame))\n",
    "    time.sleep(0.01)\n",
    "\n",
    "    state, reward, done, _, info = env.step(action)\n",
    "    total_reward += reward\n",
    "    if done:\n",
    "        break\n",
    "\n",
    "env.close()"
   ]
  },
  {
   "cell_type": "code",
   "execution_count": null,
   "metadata": {},
   "outputs": [],
   "source": []
  }
 ],
 "metadata": {
  "anaconda-cloud": {},
  "kernelspec": {
   "display_name": "DRL",
   "language": "python",
   "name": "python3"
  },
  "language_info": {
   "codemirror_mode": {
    "name": "ipython",
    "version": 3
   },
   "file_extension": ".py",
   "mimetype": "text/x-python",
   "name": "python",
   "nbconvert_exporter": "python",
   "pygments_lexer": "ipython3",
   "version": "3.10.16"
  }
 },
 "nbformat": 4,
 "nbformat_minor": 2
}
